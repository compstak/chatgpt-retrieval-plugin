{
 "cells": [
  {
   "cell_type": "code",
   "execution_count": 1,
   "id": "8690d123-3522-45e7-948c-79948cfea309",
   "metadata": {},
   "outputs": [],
   "source": [
    "import structlog\n",
    "import pandas as pd\n",
    "import snowflake.connector\n",
    "import numpy as np\n",
    "from tqdm import tqdm\n",
    "import httpx\n",
    "from datetime import datetime"
   ]
  },
  {
   "cell_type": "code",
   "execution_count": 2,
   "id": "d657c74c",
   "metadata": {},
   "outputs": [],
   "source": [
    "logger = structlog.get_logger()"
   ]
  },
  {
   "cell_type": "code",
   "execution_count": 3,
   "id": "d1182153-51f3-46e2-b15d-f35fdaa8fe8b",
   "metadata": {},
   "outputs": [],
   "source": [
    "def get_snowflake_connection():\n",
    "    \"\"\"\n",
    "    Get Snowflake cursor\n",
    "    \"\"\"\n",
    "    connection = snowflake.connector.connect(\n",
    "        account=\"compstak\",\n",
    "        user=\"periscope\",\n",
    "        password=\"\",\n",
    "        region=\"us-east-1\",\n",
    "        role = \"sysadmin\",\n",
    "        warehouse=\"PC_PERISCOPE_WH\",\n",
    "        schema = \"PLUGIN_HACKATHON\",\n",
    "        database=\"GPT\",\n",
    "        autocommit=False,\n",
    "    )\n",
    "    return connection"
   ]
  },
  {
   "cell_type": "code",
   "execution_count": 4,
   "id": "3d96b6f2",
   "metadata": {},
   "outputs": [],
   "source": [
    "def read_snowflake_query(query: str) -> pd.DataFrame:\n",
    "    conn = get_snowflake_connection()\n",
    "    try:\n",
    "        with conn.cursor() as cursor:\n",
    "            cursor.execute(query)\n",
    "            df = cursor.fetch_pandas_all()\n",
    "            df.columns = map(str.lower, df.columns)\n",
    "        conn.commit()\n",
    "    finally:\n",
    "        conn.close()\n",
    "\n",
    "    return df"
   ]
  },
  {
   "cell_type": "code",
   "execution_count": 5,
   "id": "734eebb8-d872-49d9-96c5-d6b8ab07db6e",
   "metadata": {},
   "outputs": [],
   "source": [
    "def get_data():\n",
    "    query = \"\"\"select * from SAMPLE_DATA\"\"\"\n",
    "    return read_snowflake_query(query)"
   ]
  },
  {
   "cell_type": "code",
   "execution_count": 6,
   "id": "b86614ce-1aa7-4ba2-89a4-71867afbd21c",
   "metadata": {},
   "outputs": [],
   "source": [
    "def standardize_columns(val):\n",
    "    if pd.isnull(val):\n",
    "        return np.NaN\n",
    "    return eval(str(val))"
   ]
  },
  {
   "cell_type": "code",
   "execution_count": 7,
   "id": "b546218d-d7cb-4701-ab43-19044d945926",
   "metadata": {},
   "outputs": [],
   "source": [
    "def format_list_as_text(lst):\n",
    "    if len(lst) == 0:\n",
    "        return \"\"\n",
    "    if len(lst) == 1:\n",
    "        return lst[0]\n",
    "    elif len(lst) == 2:\n",
    "        return ' and '.join(lst)\n",
    "    else:\n",
    "        return '{}, and {}'.format(', '.join(lst[:-1]), lst[-1])"
   ]
  },
  {
   "cell_type": "code",
   "execution_count": 8,
   "id": "1b58148d-ae8e-40f3-9f6f-672b9405d507",
   "metadata": {},
   "outputs": [],
   "source": [
    "def get_nlg(row):\n",
    "    text = []\n",
    "    text.append(f\"A lease in {row['address']} {row['city']}, {row['state']}, {row['zipcode']} has the following attributes: \")\n",
    "    if pd.notnull(row['tenant']):\n",
    "        text.append(f\"Tenant Name: {row['tenant']}\")\n",
    "        \n",
    "    if str(row['tenant_industry']) != \"nan\":\n",
    "        ti = format_list_as_text(row['tenant_industry'])\n",
    "        text.append(f\"Tenant Industry: {ti}\")\n",
    "    \n",
    "    if str(row['commencement_date']) != \"nan\":\n",
    "        text.append(f\"Lease Commencement Year: {int(row['commencement_date'])}\")\n",
    "\n",
    "    if str(row['expiration_date']) != \"nan\":\n",
    "        text.append(f\"Lease Expiration Year: {int(row['expiration_date'])}\")\n",
    "\n",
    "    if str(row['tenant_brokerage']) != \"nan\":\n",
    "        tb = format_list_as_text(row['tenant_brokerage'])\n",
    "        text.append(f\"Tenants Brokerage Firm: {tb}\")\n",
    "        \n",
    "    if str(row['tenant_broker']) != \"nan\":\n",
    "        tbr = format_list_as_text(row['tenant_broker'])\n",
    "        text.append(f\"Tenants Individual Broker: {tbr}\")\n",
    "        \n",
    "    if str(row['landlord_brokerage']) != \"nan\":\n",
    "        lb = format_list_as_text(row['landlord_brokerage'])\n",
    "        text.append(f\"Landlord's Brokerage Firm: {lb}\")\n",
    "        \n",
    "    if str(row['landlord_broker']) != \"nan\":\n",
    "        lbr = format_list_as_text(row['landlord_broker'])\n",
    "        text.append(f\"Landlord's Individual Broker: {lbr}\")\n",
    "    \n",
    "    text = '\\n'.join(text)\n",
    "    \n",
    "    return text\n"
   ]
  },
  {
   "cell_type": "code",
   "execution_count": 9,
   "id": "f65a1a18-4896-4354-b0df-5eb326ed96fd",
   "metadata": {},
   "outputs": [],
   "source": [
    "def get_json_to_upsert(master_id,text):\n",
    "    if pd.isnull(master_id):\n",
    "        document = {\n",
    "            \"text\": text,\n",
    "            \"metadata\": {\n",
    "                \"document_id\": str(master_id),\n",
    "                \"created_at\": str(datetime.utcnow())\n",
    "            }\n",
    "        }    \n",
    "    else:\n",
    "        document = {\n",
    "                \"text\": text,\n",
    "                \"metadata\": {\n",
    "                    \"document_id\": str(master_id),\n",
    "                    \"url\": f\"https://enterprise.compstak.com/comps/leases/{master_id}\",\n",
    "                    \"created_at\": str(datetime.utcnow())\n",
    "                }\n",
    "            }\n",
    "        \n",
    "    return document"
   ]
  },
  {
   "cell_type": "code",
   "execution_count": 10,
   "id": "63940e8a",
   "metadata": {},
   "outputs": [],
   "source": [
    "df = get_data()\n",
    "for col in [\"tenant_industry\", \"tenant_brokerage\", \"tenant_broker\", \"landlord_brokerage\", \"landlord_broker\"]:\n",
    "    df[col] = df[col].apply(standardize_columns)\n",
    "df[\"document_info\"] = df.apply(get_nlg, axis=1)"
   ]
  },
  {
   "cell_type": "code",
   "execution_count": 11,
   "id": "04804c9a",
   "metadata": {},
   "outputs": [],
   "source": [
    "upsert_data = df.apply(lambda x: get_json_to_upsert(x[\"id\"], x[\"document_info\"]), axis=1).tolist()"
   ]
  },
  {
   "cell_type": "code",
   "execution_count": 12,
   "id": "308be327-710f-433c-a1b1-c305597d5c84",
   "metadata": {},
   "outputs": [
    {
     "name": "stderr",
     "output_type": "stream",
     "text": [
      "100%|██████████| 5/5 [00:36<00:00,  7.26s/it]\n"
     ]
    }
   ],
   "source": [
    "batch_size = 1000\n",
    "url = \"https://chatgpt-retrieval-plugin.stage.cs-int-592.com/upsert\"\n",
    "\n",
    "for i in tqdm(range(0, len(upsert_data), batch_size)):\n",
    "    json_to_upsert = upsert_data[i:i+batch_size]\n",
    "    async with httpx.AsyncClient(timeout=None) as client:\n",
    "        resp = await client.post(url=url, json={\"documents\": json_to_upsert})\n",
    "        if resp.status_code != 200:\n",
    "            logger.info(resp.json)"
   ]
  }
 ],
 "metadata": {
  "kernelspec": {
   "display_name": "Python 3 (ipykernel)",
   "language": "python",
   "name": "python3"
  },
  "language_info": {
   "codemirror_mode": {
    "name": "ipython",
    "version": 3
   },
   "file_extension": ".py",
   "mimetype": "text/x-python",
   "name": "python",
   "nbconvert_exporter": "python",
   "pygments_lexer": "ipython3",
   "version": "3.10.8"
  }
 },
 "nbformat": 4,
 "nbformat_minor": 5
}
